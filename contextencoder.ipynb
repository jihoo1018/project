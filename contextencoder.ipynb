{
 "nbformat": 4,
 "nbformat_minor": 0,
 "metadata": {
  "colab": {
   "provenance": [],
   "authorship_tag": "ABX9TyPXrXKdMXX748TYrCCUXUZb",
   "include_colab_link": true
  },
  "kernelspec": {
   "name": "python3",
   "display_name": "Python 3"
  },
  "language_info": {
   "name": "python"
  }
 },
 "cells": [
  {
   "cell_type": "markdown",
   "metadata": {
    "id": "view-in-github",
    "colab_type": "text"
   },
   "source": [
    "<a href=\"https://colab.research.google.com/github/jihoo1018/project/blob/main/contextencoder.ipynb\" target=\"_parent\"><img src=\"https://colab.research.google.com/assets/colab-badge.svg\" alt=\"Open In Colab\"/></a>"
   ]
  },
  {
   "cell_type": "code",
   "execution_count": null,
   "metadata": {
    "colab": {
     "base_uri": "https://localhost:8080/"
    },
    "id": "24D3r5_mTTyN",
    "outputId": "79cdc4e2-5c25-4e11-ef9a-1418a169daf4"
   },
   "outputs": [
    {
     "output_type": "stream",
     "name": "stdout",
     "text": [
      "Mounted at /content/drive\n"
     ]
    }
   ],
   "source": [
    "from google.colab import drive\n",
    "drive.mount('/content/drive')"
   ]
  },
  {
   "cell_type": "code",
   "source": [
    "import torch\n",
    "from torch.utils.data import Dataset, DataLoader\n",
    "from torch import nn\n",
    "from torch import optim\n",
    "from torch.utils.tensorboard import SummaryWriter \n",
    "from torchvision import transforms\n",
    "from PIL import Image\n",
    "import numpy as np\n",
    "import matplotlib.pyplot as plt\n",
    "import os\n",
    "import time\n",
    "\n",
    "\n",
    "if torch.cuda.is_available():\n",
    "  device = 'cuda:0'\n",
    "else:\n",
    "  device = 'cpu'\n"
   ],
   "metadata": {
    "id": "QPEntstoTXW-"
   },
   "execution_count": null,
   "outputs": []
  },
  {
   "cell_type": "code",
   "source": [
    "import os\n",
    "if not os.path.isfile(\"/content/voc_test_2007_tar\"):\n",
    "  !cp \"/content/drive/MyDrive/Faster_RCNN/VOCtest_06-Nov-2007.tar\" \"/content/voc_test_2007_tar\" \n",
    "  ! tar -xf \"/content/voc_test_2007_tar\""
   ],
   "metadata": {
    "id": "qCCtmsoT5nti"
   },
   "execution_count": null,
   "outputs": []
  },
  {
   "cell_type": "code",
   "source": [
    "import os\n",
    "if not os.path.isfile(\"/content/city.zip\"):\n",
    "  !cp \"/content/drive/MyDrive/Inpainting/city.zip\" \"/content/city.zip\" \n",
    "  ! unzip \"/content/city.zip\" -d \"/content/city\"\n",
    "\n",
    "if not os.path.isfile(\"/content/nature.zip\"):\n",
    "  !cp \"/content/drive/MyDrive/Inpainting/nature.zip\" \"/content/nature.zip\" \n",
    "  ! unzip \"/content/nature.zip\" -d \"/content/nature\""
   ],
   "metadata": {
    "colab": {
     "base_uri": "https://localhost:8080/"
    },
    "id": "fDF-7l9x5n4I",
    "outputId": "43576dfc-168f-4055-8b73-3efcdb624e49"
   },
   "execution_count": null,
   "outputs": [
    {
     "output_type": "stream",
     "name": "stdout",
     "text": [
      "Archive:  /content/city.zip\n",
      "  inflating: /content/city/000001_0.jpg  \n",
      "  inflating: /content/city/000001_1.jpg  \n",
      "  inflating: /content/city/000001_2.jpg  \n",
      "  inflating: /content/city/000001_3.jpg  \n",
      "  inflating: /content/city/000001_4.jpg  \n",
      "  inflating: /content/city/000001_5.jpg  \n",
      "  inflating: /content/city/000002_0.jpg  \n",
      "  inflating: /content/city/000002_1.jpg  \n",
      "  inflating: /content/city/000002_2.jpg  \n",
      "  inflating: /content/city/000002_3.jpg  \n",
      "  inflating: /content/city/000002_4.jpg  \n",
      "  inflating: /content/city/000002_5.jpg  \n",
      "  inflating: /content/city/000003_0.jpg  \n",
      "  inflating: /content/city/000003_1.jpg  \n",
      "  inflating: /content/city/000003_2.jpg  \n",
      "  inflating: /content/city/000003_3.jpg  \n",
      "  inflating: /content/city/000003_4.jpg  \n",
      "  inflating: /content/city/000003_5.jpg  \n",
      "  inflating: /content/city/000004_0.jpg  \n",
      "  inflating: /content/city/000004_1.jpg  \n",
      "  inflating: /content/city/000004_2.jpg  \n",
      "  inflating: /content/city/000004_3.jpg  \n",
      "  inflating: /content/city/000004_4.jpg  \n",
      "  inflating: /content/city/000004_5.jpg  \n",
      "  inflating: /content/city/000005_0.jpg  \n",
      "  inflating: /content/city/000005_1.jpg  \n",
      "  inflating: /content/city/000005_2.jpg  \n",
      "  inflating: /content/city/000005_3.jpg  \n",
      "  inflating: /content/city/000005_4.jpg  \n",
      "  inflating: /content/city/000005_5.jpg  \n",
      "  inflating: /content/city/000006_0.jpg  \n",
      "  inflating: /content/city/000006_1.jpg  \n",
      "  inflating: /content/city/000006_2.jpg  \n",
      "  inflating: /content/city/000006_3.jpg  \n",
      "  inflating: /content/city/000006_4.jpg  \n",
      "  inflating: /content/city/000006_5.jpg  \n",
      "  inflating: /content/city/000007_0.jpg  \n",
      "  inflating: /content/city/000007_1.jpg  \n",
      "  inflating: /content/city/000007_2.jpg  \n",
      "  inflating: /content/city/000007_3.jpg  \n",
      "  inflating: /content/city/000007_4.jpg  \n",
      "  inflating: /content/city/000007_5.jpg  \n",
      "  inflating: /content/city/000008_0.jpg  \n",
      "  inflating: /content/city/000008_1.jpg  \n",
      "  inflating: /content/city/000008_2.jpg  \n",
      "  inflating: /content/city/000008_3.jpg  \n",
      "  inflating: /content/city/000008_4.jpg  \n",
      "  inflating: /content/city/000008_5.jpg  \n",
      "  inflating: /content/city/000009_0.jpg  \n",
      "  inflating: /content/city/000009_1.jpg  \n",
      "  inflating: /content/city/000009_2.jpg  \n",
      "  inflating: /content/city/000009_3.jpg  \n",
      "  inflating: /content/city/000009_4.jpg  \n",
      "  inflating: /content/city/000009_5.jpg  \n",
      "  inflating: /content/city/000010_0.jpg  \n",
      "  inflating: /content/city/000010_1.jpg  \n",
      "  inflating: /content/city/000010_2.jpg  \n",
      "  inflating: /content/city/000010_3.jpg  \n",
      "  inflating: /content/city/000010_4.jpg  \n",
      "  inflating: /content/city/000010_5.jpg  \n",
      "  inflating: /content/city/000011_0.jpg  \n",
      "  inflating: /content/city/000011_1.jpg  \n",
      "  inflating: /content/city/000011_2.jpg  \n",
      "  inflating: /content/city/000011_3.jpg  \n",
      "  inflating: /content/city/000011_4.jpg  \n",
      "  inflating: /content/city/000011_5.jpg  \n",
      "  inflating: /content/city/000012_0.jpg  \n",
      "  inflating: /content/city/000012_1.jpg  \n",
      "  inflating: /content/city/000012_2.jpg  \n",
      "  inflating: /content/city/000012_3.jpg  \n",
      "  inflating: /content/city/000012_4.jpg  \n",
      "  inflating: /content/city/000012_5.jpg  \n",
      "  inflating: /content/city/000013_0.jpg  \n",
      "  inflating: /content/city/000013_1.jpg  \n",
      "  inflating: /content/city/000013_2.jpg  \n",
      "  inflating: /content/city/000013_3.jpg  \n",
      "  inflating: /content/city/000013_4.jpg  \n",
      "  inflating: /content/city/000013_5.jpg  \n",
      "  inflating: /content/city/000014_0.jpg  \n",
      "  inflating: /content/city/000014_1.jpg  \n",
      "  inflating: /content/city/000014_2.jpg  \n",
      "  inflating: /content/city/000014_3.jpg  \n",
      "  inflating: /content/city/000014_4.jpg  \n",
      "  inflating: /content/city/000014_5.jpg  \n",
      "  inflating: /content/city/000015_0.jpg  \n",
      "  inflating: /content/city/000015_1.jpg  \n",
      "  inflating: /content/city/000015_2.jpg  \n",
      "  inflating: /content/city/000015_3.jpg  \n",
      "  inflating: /content/city/000015_4.jpg  \n",
      "  inflating: /content/city/000015_5.jpg  \n",
      "  inflating: /content/city/000016_0.jpg  \n",
      "  inflating: /content/city/000016_1.jpg  \n",
      "  inflating: /content/city/000016_2.jpg  \n",
      "  inflating: /content/city/000016_3.jpg  \n",
      "  inflating: /content/city/000016_4.jpg  \n",
      "  inflating: /content/city/000016_5.jpg  \n",
      "  inflating: /content/city/000017_0.jpg  \n",
      "  inflating: /content/city/000017_1.jpg  \n",
      "  inflating: /content/city/000017_2.jpg  \n",
      "  inflating: /content/city/000017_3.jpg  \n",
      "  inflating: /content/city/000017_4.jpg  \n",
      "  inflating: /content/city/000017_5.jpg  \n",
      "  inflating: /content/city/000018_0.jpg  \n",
      "  inflating: /content/city/000018_1.jpg  \n",
      "  inflating: /content/city/000018_2.jpg  \n",
      "  inflating: /content/city/000018_3.jpg  \n",
      "  inflating: /content/city/000018_4.jpg  \n",
      "  inflating: /content/city/000018_5.jpg  \n",
      "  inflating: /content/city/000019_0.jpg  \n",
      "  inflating: /content/city/000019_1.jpg  \n",
      "  inflating: /content/city/000019_2.jpg  \n",
      "  inflating: /content/city/000019_3.jpg  \n",
      "  inflating: /content/city/000019_4.jpg  \n",
      "  inflating: /content/city/000019_5.jpg  \n",
      "  inflating: /content/city/000020_0.jpg  \n",
      "  inflating: /content/city/000020_1.jpg  \n",
      "  inflating: /content/city/000020_2.jpg  \n",
      "  inflating: /content/city/000020_3.jpg  \n",
      "  inflating: /content/city/000020_4.jpg  \n",
      "  inflating: /content/city/000020_5.jpg  \n",
      "  inflating: /content/city/000021_0.jpg  \n",
      "  inflating: /content/city/000021_1.jpg  \n",
      "  inflating: /content/city/000021_2.jpg  \n",
      "  inflating: /content/city/000021_3.jpg  \n",
      "  inflating: /content/city/000021_4.jpg  \n",
      "  inflating: /content/city/000021_5.jpg  \n",
      "  inflating: /content/city/000022_0.jpg  \n",
      "  inflating: /content/city/000022_1.jpg  \n",
      "  inflating: /content/city/000022_2.jpg  \n",
      "  inflating: /content/city/000022_3.jpg  \n",
      "  inflating: /content/city/000022_4.jpg  \n",
      "  inflating: /content/city/000022_5.jpg  \n",
      "  inflating: /content/city/000023_0.jpg  \n",
      "  inflating: /content/city/000023_1.jpg  \n",
      "  inflating: /content/city/000023_2.jpg  \n",
      "  inflating: /content/city/000023_3.jpg  \n",
      "  inflating: /content/city/000023_4.jpg  \n",
      "  inflating: /content/city/000023_5.jpg  \n",
      "  inflating: /content/city/000024_0.jpg  \n",
      "  inflating: /content/city/000024_1.jpg  \n",
      "  inflating: /content/city/000024_2.jpg  \n",
      "  inflating: /content/city/000024_3.jpg  \n",
      "  inflating: /content/city/000024_4.jpg  \n",
      "  inflating: /content/city/000024_5.jpg  \n",
      "Archive:  /content/nature.zip\n",
      "  End-of-central-directory signature not found.  Either this file is not\n",
      "  a zipfile, or it constitutes one disk of a multi-part archive.  In the\n",
      "  latter case the central directory and zipfile comment will be found on\n",
      "  the last disk(s) of this archive.\n",
      "unzip:  cannot find zipfile directory in one of /content/nature.zip or\n",
      "        /content/nature.zip.zip, and cannot find /content/nature.zip.ZIP, period.\n"
     ]
    }
   ]
  },
  {
   "cell_type": "code",
   "source": [
    "import os\n",
    "import matplotlib.pyplot as plt\n",
    "from PIL import Image\n",
    "import numpy as np\n",
    "def make_mask(size):\n",
    "  label = 0\n",
    "  while True:\n",
    "    seg_list = os.listdir(\"/content/VOCdevkit/VOC2007/SegmentationObject/\")\n",
    "    seg_image = Image.open(\"/content/VOCdevkit/VOC2007/SegmentationObject/\"+seg_list[np.random.randint(0,len(seg_list))])\n",
    "    seg_image = seg_image.resize((size,size))\n",
    "    np_seg = np.array(seg_image,dtype=np.uint8)\n",
    "    labels = np.unique(np_seg)\n",
    "\n",
    "    for lb in labels[1:-1]:\n",
    "      if len(np.where(np_seg == lb)[0]) < (size**2)/4:\n",
    "        label = lb\n",
    "        break\n",
    "\n",
    "    if label != 0:\n",
    "      break\n",
    "\n",
    "  np_seg = np.where(np_seg == label,1.0,0)\n",
    "  np_seg = np.stack((np_seg,np_seg,np_seg),axis = 2)\n",
    "\n",
    "  return np_seg\n",
    "\n",
    "plt.imshow(make_mask(128))"
   ],
   "metadata": {
    "colab": {
     "base_uri": "https://localhost:8080/",
     "height": 286
    },
    "id": "OMgYSi4IALiK",
    "outputId": "28c565ce-e0a6-426b-c5cf-ca50dedb710d"
   },
   "execution_count": null,
   "outputs": [
    {
     "output_type": "execute_result",
     "data": {
      "text/plain": [
       "<matplotlib.image.AxesImage at 0x7fa0797fffd0>"
      ]
     },
     "metadata": {},
     "execution_count": 16
    },
    {
     "output_type": "display_data",
     "data": {
      "text/plain": [
       "<Figure size 432x288 with 1 Axes>"
      ],
      "image/png": "[encoded data removed]"
     },
     "metadata": {
      "needs_background": "light"
     }
    }
   ]
  },
  {
   "cell_type": "code",
   "source": [
    "import torch\n",
    "from torch.utils.data import Dataset, DataLoader\n",
    "from torch import nn\n",
    "from torch import optim\n",
    "from torch.utils.tensorboard import SummaryWriter \n",
    "from torchvision import transforms\n",
    "from PIL import Image\n",
    "import numpy as np\n",
    "import matplotlib.pyplot as plt\n",
    "import os\n",
    "import time\n",
    "\n",
    "\n",
    "class Data(Dataset):\n",
    "  def __init__(self, size= 128):\n",
    "    self.city_list = os.listdir(\"/content/city/\")\n",
    "    self.nature_list = os.listdir(\"/content/nature\")\n",
    "    self.every_list = []\n",
    "    self.to_tensor = transforms.ToTensor()\n",
    "    self.size = size\n",
    "\n",
    "    for x in self.city_list:\n",
    "      self.every_list.append(\"/content/city/\"+x)\n",
    "    for x in self.nature_list:\n",
    "      self.every_list.append(\"/content/nature/\"+x)\n",
    "    \n",
    "    self.every_list.sort()\n",
    "\n",
    "  def __len__(self):\n",
    "    return len(self.every_list)\n",
    "  \n",
    "  def __getitem__(self,idx):\n",
    "    mask = make_mask(self.size)\n",
    "    image = Image.open(self.every_list[idx]).convert(\"RGB\")\n",
    "\n",
    "    image = image.crop((100,200,image.size[0],image.size[1]))\n",
    "    image = image.resize((self.size,self.size))\n",
    "    image = np.array(image,dtype=np.uint8)\n",
    "    image = image/255\n",
    "\n",
    "    #The missing region in the masked input image is filled with constant mean value.\n",
    "    masked_image = (1-mask)*image + mask*(np.zeros_like(image)+np.mean(image))\n",
    "    \n",
    "    return self.to_tensor(masked_image).type(torch.float32), self.to_tensor(mask).type(torch.float32), self.to_tensor(image).type(torch.float32)\n",
    "  \n"
   ],
   "metadata": {
    "id": "tO-hOAt2XBHk"
   },
   "execution_count": null,
   "outputs": []
  },
  {
   "cell_type": "code",
   "source": [
    "from Data import Data\n",
    "from torch.utils.data import Dataset, DataLoader\n",
    "import matplotlib.pyplot as plt\n",
    "\n",
    "#Dataloader 테스트\n",
    "dataset = Dataloading(128)\n",
    "dataloader = DataLoader(dataset,shuffle=True)\n",
    "for a,b,c in dataloader:\n",
    "  break\n",
    "print(a.shape)\n",
    "fig = plt.figure(figsize=(13,4))\n",
    "fig.add_subplot(1,3,1)\n",
    "plt.imshow(a.squeeze(0).permute(1,2,0),aspect='auto')\n",
    "plt.axis('off')\n",
    "fig.add_subplot(1,3,2)\n",
    "plt.imshow(b.squeeze(0).permute(1,2,0),aspect='auto')\n",
    "plt.axis('off')\n",
    "fig.add_subplot(1,3,3)\n",
    "plt.imshow(c.squeeze(0).permute(1,2,0),aspect='auto')\n",
    "plt.axis('off')\n",
    "\n",
    "\n"
   ],
   "metadata": {
    "colab": {
     "base_uri": "https://localhost:8080/",
     "height": 394
    },
    "id": "n4C2yX9TXMIb",
    "outputId": "f833c63c-a2df-4a1c-8db2-d6c376de3df8"
   },
   "execution_count": null,
   "outputs": [
    {
     "output_type": "error",
     "ename": "ModuleNotFoundError",
     "evalue": "ignored",
     "traceback": [
      "\u001B[0;31m---------------------------------------------------------------------------\u001B[0m",
      "\u001B[0;31mModuleNotFoundError\u001B[0m                       Traceback (most recent call last)",
      "\u001B[0;32m<ipython-input-22-5b67f6b4ae66>\u001B[0m in \u001B[0;36m<module>\u001B[0;34m\u001B[0m\n\u001B[0;32m----> 1\u001B[0;31m \u001B[0;32mfrom\u001B[0m \u001B[0mData\u001B[0m \u001B[0;32mimport\u001B[0m \u001B[0mData\u001B[0m\u001B[0;34m\u001B[0m\u001B[0;34m\u001B[0m\u001B[0m\n\u001B[0m\u001B[1;32m      2\u001B[0m \u001B[0;32mfrom\u001B[0m \u001B[0mtorch\u001B[0m\u001B[0;34m.\u001B[0m\u001B[0mutils\u001B[0m\u001B[0;34m.\u001B[0m\u001B[0mdata\u001B[0m \u001B[0;32mimport\u001B[0m \u001B[0mDataset\u001B[0m\u001B[0;34m,\u001B[0m \u001B[0mDataLoader\u001B[0m\u001B[0;34m\u001B[0m\u001B[0;34m\u001B[0m\u001B[0m\n\u001B[1;32m      3\u001B[0m \u001B[0;32mimport\u001B[0m \u001B[0mmatplotlib\u001B[0m\u001B[0;34m.\u001B[0m\u001B[0mpyplot\u001B[0m \u001B[0;32mas\u001B[0m \u001B[0mplt\u001B[0m\u001B[0;34m\u001B[0m\u001B[0;34m\u001B[0m\u001B[0m\n\u001B[1;32m      4\u001B[0m \u001B[0;34m\u001B[0m\u001B[0m\n\u001B[1;32m      5\u001B[0m \u001B[0;31m#Dataloader 테스트\u001B[0m\u001B[0;34m\u001B[0m\u001B[0;34m\u001B[0m\u001B[0m\n",
      "\u001B[0;31mModuleNotFoundError\u001B[0m: No module named 'Data'",
      "",
      "\u001B[0;31m---------------------------------------------------------------------------\u001B[0;32m\nNOTE: If your import is failing due to a missing package, you can\nmanually install dependencies using either !pip or !apt.\n\nTo view examples of installing some common dependencies, click the\n\"Open Examples\" button below.\n\u001B[0;31m---------------------------------------------------------------------------\u001B[0m\n"
     ],
     "errorDetails": {
      "actions": [
       {
        "action": "open_url",
        "actionText": "Open Examples",
        "url": "/notebooks/snippets/importing_libraries.ipynb"
       }
      ]
     }
    }
   ]
  }
 ]
}
